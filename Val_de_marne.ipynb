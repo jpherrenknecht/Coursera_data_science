{
 "cells": [
  {
   "cell_type": "markdown",
   "metadata": {},
   "source": [
    "# Val de Marne"
   ]
  },
  {
   "cell_type": "code",
   "execution_count": 1,
   "metadata": {},
   "outputs": [],
   "source": [
    "import os\n",
    "import requests\n",
    "import numpy as np\n",
    "import pandas as pd\n",
    "import folium\n",
    "import json\n",
    "import shapely\n",
    "from shapely.geometry import Point,Polygon\n",
    "from shapely import speedups\n",
    "import geopandas as gpd\n",
    "import webbrowser\n",
    "from bs4 import BeautifulSoup\n",
    "from urllib.request import urlretrieve"
   ]
  },
  {
   "cell_type": "code",
   "execution_count": 2,
   "metadata": {},
   "outputs": [
    {
     "name": "stdout",
     "output_type": "stream",
     "text": [
      "GeoJSON file downloaded!\n"
     ]
    }
   ],
   "source": [
    "url='https://github.com/gregoiredavid/france-geojson/raw/master/departements/94-val-de-marne/communes-94-val-de-marne.geojson '\n",
    "nom_fichier='val_de_marne.json'    \n",
    "urlretrieve(url, nom_fichier)  # recuperation des fichiers\n",
    "print('GeoJSON file downloaded!') "
   ]
  },
  {
   "cell_type": "code",
   "execution_count": 21,
   "metadata": {},
   "outputs": [
    {
     "name": "stdout",
     "output_type": "stream",
     "text": [
      "GeoJSON file downloaded!\n"
     ]
    }
   ],
   "source": [
    "url='https://raw.githubusercontent.com/gregoiredavid/france-geojson/master/departements-version-simplifiee.geojson'\n",
    "nom_fichier='departements.json'    \n",
    "urlretrieve(url, nom_fichier)  # recuperation des fichiers\n",
    "print('GeoJSON file downloaded!') \n"
   ]
  },
  {
   "cell_type": "code",
   "execution_count": 22,
   "metadata": {},
   "outputs": [
    {
     "data": {
      "text/plain": [
       "dict_keys(['type', 'features'])"
      ]
     },
     "execution_count": 22,
     "metadata": {},
     "output_type": "execute_result"
    }
   ],
   "source": [
    "geo = json.load(open(\"departements.json\"))\n",
    "geo.keys()"
   ]
  },
  {
   "cell_type": "code",
   "execution_count": 23,
   "metadata": {},
   "outputs": [
    {
     "data": {
      "text/plain": [
       "'Val-de-Marne'"
      ]
     },
     "execution_count": 23,
     "metadata": {},
     "output_type": "execute_result"
    }
   ],
   "source": [
    "geo[\"features\"][94]['properties']['nom']\n"
   ]
  },
  {
   "cell_type": "markdown",
   "metadata": {},
   "source": [
    "<h3> On extrait le polygone du val de marne et on inverse les coordonnees xy en lat long "
   ]
  },
  {
   "cell_type": "code",
   "execution_count": 19,
   "metadata": {},
   "outputs": [
    {
     "name": "stdout",
     "output_type": "stream",
     "text": [
      "[[2.3318953139887446, 48.81701271305569], [2.363949262797974, 48.81631512383787], [2.4006819201840903, 48.82909612370583], [2.4384502049151475, 48.818235158647155], [2.4626974524261254, 48.81905707868419], [2.4622646327720443, 48.84253748930953], [2.416339717281352, 48.84923827340741], [2.4815340793391782, 48.86140985004899], [2.533679919545506, 48.84510353911671], [2.5922804883088015, 48.8074366758147], [2.607003437584154, 48.77439762384403], [2.5854093346308815, 48.74171196622536], [2.585211502726328, 48.727239448802735], [2.5688040564289847, 48.707222628077005], [2.571660318442073, 48.69201409164602], [2.5538667808447078, 48.68832401270366], [2.531076672373326, 48.69978570765512], [2.5157508385679277, 48.72893861768784], [2.5035365695581286, 48.735211482171685], [2.454965343815732, 48.72228146116879], [2.4141357629081504, 48.71799549181414], [2.3707067322771356, 48.720175922532974], [2.3546837090965482, 48.73856509020945], [2.3207180175230313, 48.74875623508064], [2.3087015923862384, 48.75541506900493], [2.3258120232145614, 48.78191098020334], [2.318696288355829, 48.78799561087479], [2.3318953139887446, 48.81701271305569]]\n",
      "[[48.81701271305569, 2.3318953139887446], [48.81631512383787, 2.363949262797974], [48.82909612370583, 2.4006819201840903], [48.818235158647155, 2.4384502049151475], [48.81905707868419, 2.4626974524261254], [48.84253748930953, 2.4622646327720443], [48.84923827340741, 2.416339717281352], [48.86140985004899, 2.4815340793391782], [48.84510353911671, 2.533679919545506], [48.8074366758147, 2.5922804883088015], [48.77439762384403, 2.607003437584154], [48.74171196622536, 2.5854093346308815], [48.727239448802735, 2.585211502726328], [48.707222628077005, 2.5688040564289847], [48.69201409164602, 2.571660318442073], [48.68832401270366, 2.5538667808447078], [48.69978570765512, 2.531076672373326], [48.72893861768784, 2.5157508385679277], [48.735211482171685, 2.5035365695581286], [48.72228146116879, 2.454965343815732], [48.71799549181414, 2.4141357629081504], [48.720175922532974, 2.3707067322771356], [48.73856509020945, 2.3546837090965482], [48.74875623508064, 2.3207180175230313], [48.75541506900493, 2.3087015923862384], [48.78191098020334, 2.3258120232145614], [48.78799561087479, 2.318696288355829], [48.81701271305569, 2.3318953139887446]]\n"
     ]
    }
   ],
   "source": [
    "contour=geo[\"features\"][94]['geometry']['coordinates'][0]\n",
    "\n",
    "#inversion des coordonnees\n",
    "cont_xy=[]\n",
    "for i in range (len(contour)):\n",
    "    cont_xy.append([contour[i][1],contour[i][0]])\n",
    "    \n",
    "\n",
    "polygone_94=Polygon(contour)\n",
    "print (contour)\n",
    "print (cont_xy)"
   ]
  },
  {
   "cell_type": "code",
   "execution_count": 16,
   "metadata": {},
   "outputs": [
    {
     "name": "stdout",
     "output_type": "stream",
     "text": [
      "48.81701271305569\n",
      "28\n"
     ]
    }
   ],
   "source": [
    "i=0\n",
    "print (contour[i][1])\n",
    "print (len(contour))\n"
   ]
  },
  {
   "cell_type": "markdown",
   "metadata": {},
   "source": [
    "## Test de fonctionnement"
   ]
  },
  {
   "cell_type": "code",
   "execution_count": 20,
   "metadata": {},
   "outputs": [
    {
     "data": {
      "text/html": [
       "<div style=\"width:100%;\"><div style=\"position:relative;width:100%;height:0;padding-bottom:60%;\"><iframe src=\"data:text/html;charset=utf-8;base64,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\" style=\"position:absolute;width:100%;height:100%;left:0;top:0;border:none !important;\" allowfullscreen webkitallowfullscreen mozallowfullscreen></iframe></div></div>"
      ],
      "text/plain": [
       "<folium.folium.Map at 0x7f86b6414810>"
      ]
     },
     "execution_count": 20,
     "metadata": {},
     "output_type": "execute_result"
    }
   ],
   "source": [
    "Home = [48.80, 2.59]\n",
    "\n",
    "france = folium.Map(location=[48.85, 2.35], zoom_start=6)  # centrage sur paris\n",
    "folium.LatLngPopup().add_to(france)   # popup lat long\n",
    "folium.Circle(Home,radius = 100, fill=True, color='blue',fill_opacity=0.1 ).add_to(france)\n",
    "folium.PolyLine(cont_xy,color='blue', popup='centre commercial',rotation=45, radius=50).add_to(france)  \n",
    "\n",
    "france"
   ]
  },
  {
   "cell_type": "code",
   "execution_count": 13,
   "metadata": {},
   "outputs": [
    {
     "data": {
      "text/plain": [
       "True"
      ]
     },
     "execution_count": 13,
     "metadata": {},
     "output_type": "execute_result"
    }
   ],
   "source": [
    "\n",
    "Home_s=Point([Home[1],Home[0]])\n",
    "Home_s.within(polygone_94)"
   ]
  },
  {
   "cell_type": "code",
   "execution_count": null,
   "metadata": {},
   "outputs": [],
   "source": []
  },
  {
   "cell_type": "code",
   "execution_count": null,
   "metadata": {},
   "outputs": [],
   "source": []
  }
 ],
 "metadata": {
  "kernelspec": {
   "display_name": "Python 3",
   "language": "python",
   "name": "python3"
  },
  "language_info": {
   "codemirror_mode": {
    "name": "ipython",
    "version": 3
   },
   "file_extension": ".py",
   "mimetype": "text/x-python",
   "name": "python",
   "nbconvert_exporter": "python",
   "pygments_lexer": "ipython3",
   "version": "3.7.4"
  }
 },
 "nbformat": 4,
 "nbformat_minor": 4
}
