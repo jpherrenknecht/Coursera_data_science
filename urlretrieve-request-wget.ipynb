{
 "cells": [
  {
   "cell_type": "code",
   "execution_count": 2,
   "metadata": {},
   "outputs": [
    {
     "name": "stdout",
     "output_type": "stream",
     "text": [
      "hello\n"
     ]
    }
   ],
   "source": [
    "print ('hello')"
   ]
  },
  {
   "cell_type": "code",
   "execution_count": 3,
   "metadata": {},
   "outputs": [],
   "source": [
    "from urllib.request import urlretrieve\n",
    "import os"
   ]
  },
  {
   "cell_type": "code",
   "execution_count": 6,
   "metadata": {},
   "outputs": [
    {
     "data": {
      "text/plain": [
       "('essai_urlretrieve.csv', <http.client.HTTPMessage at 0x2bd4b4e3b48>)"
      ]
     },
     "execution_count": 6,
     "metadata": {},
     "output_type": "execute_result"
    }
   ],
   "source": [
    "url='https://public.opendatasoft.com/explore/dataset/code-insee-postaux-geoflar/download/?format=csv&q=94&refine.nom_region=ILE-DE-FRANCE&refine.nom_dept=VAL-DE-MARNE&timezone=Europe/Berlin&lang=fr&use_labels_for_header=true&csv_separator=%3B'\n",
    "nom_fichier='essai_urlretrieve.csv'    \n",
    "urlretrieve(url, nom_fichier)  # recuperation des fichiers"
   ]
  },
  {
   "cell_type": "code",
   "execution_count": 8,
   "metadata": {},
   "outputs": [
    {
     "data": {
      "text/plain": [
       "('abc.zip', <http.client.HTTPMessage at 0x2bd4b4e4748>)"
      ]
     },
     "execution_count": 8,
     "metadata": {},
     "output_type": "execute_result"
    }
   ],
   "source": [
    "import urllib.request\n",
    "url='http://www.c64.com/games/download.php?id=1495'\n",
    "f=urllib.request.urlopen(url)\n",
    "filename=f.info().get_filename()\n",
    "urllib.request.urlretrieve(url, filename)"
   ]
  },
  {
   "cell_type": "code",
   "execution_count": null,
   "metadata": {},
   "outputs": [],
   "source": []
  }
 ],
 "metadata": {
  "kernelspec": {
   "display_name": "Python 3",
   "language": "python",
   "name": "python3"
  },
  "language_info": {
   "codemirror_mode": {
    "name": "ipython",
    "version": 3
   },
   "file_extension": ".py",
   "mimetype": "text/x-python",
   "name": "python",
   "nbconvert_exporter": "python",
   "pygments_lexer": "ipython3",
   "version": "3.7.4"
  }
 },
 "nbformat": 4,
 "nbformat_minor": 4
}
